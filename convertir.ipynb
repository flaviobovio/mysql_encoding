{
 "cells": [
  {
   "attachments": {},
   "cell_type": "markdown",
   "metadata": {},
   "source": [
    "##### Cambiar encoding de una DB MySQL "
   ]
  },
  {
   "cell_type": "code",
   "execution_count": 6,
   "metadata": {},
   "outputs": [
    {
     "data": {
      "text/plain": [
       "'socket localhost:3306'"
      ]
     },
     "execution_count": 6,
     "metadata": {},
     "output_type": "execute_result"
    }
   ],
   "source": [
    "import pymysql\n",
    "\n",
    "# Seteo los valores de conexión\n",
    "host = 'localhost'\n",
    "user = 'root'\n",
    "password = 'password'\n",
    "database = 'sakila'\n",
    "charactet_set = 'utf8mb4'\n",
    "collate = 'utf8mb4_unicode_ci'\n",
    "\n",
    "\n",
    "\n",
    "# Creo conexión a la DB\n",
    "conexion = pymysql.connect(\n",
    "host     = host,\n",
    "user     = user, \n",
    "password = password)\n",
    "\n",
    "conexion.host_info"
   ]
  },
  {
   "cell_type": "code",
   "execution_count": 7,
   "metadata": {},
   "outputs": [],
   "source": [
    "# Cambio charset DB\n",
    "cursor = conexion.cursor()\n",
    "alter = f\"\"\"ALTER DATABASE\n",
    "    {database}\n",
    "    CHARACTER SET = {charactet_set} \n",
    "    COLLATE = {collate};\n",
    "    \"\"\"\n",
    "try:\n",
    "    cursor.execute(alter)\n",
    "    conexion.commit()\n",
    "except Exception as e:\n",
    "    print ('INSTRUCCION SQL :', alter)\n",
    "    print ('ERROR: ' + str(e)+'\\n')\n",
    "\n"
   ]
  },
  {
   "cell_type": "code",
   "execution_count": 8,
   "metadata": {},
   "outputs": [
    {
     "data": {
      "text/plain": [
       "['actor',\n",
       " 'address',\n",
       " 'category',\n",
       " 'city',\n",
       " 'country',\n",
       " 'customer',\n",
       " 'film',\n",
       " 'film_actor',\n",
       " 'film_category',\n",
       " 'film_text',\n",
       " 'inventory',\n",
       " 'language',\n",
       " 'payment',\n",
       " 'rental',\n",
       " 'staff',\n",
       " 'store']"
      ]
     },
     "execution_count": 8,
     "metadata": {},
     "output_type": "execute_result"
    }
   ],
   "source": [
    "# Copio nombre tablas a lista\n",
    "cursor = conexion.cursor()\n",
    "cursor.execute(f'use {database}')\n",
    "cursor.execute(\"show full tables where Table_Type = 'BASE TABLE'\")\n",
    "tablas = [tbl[0] for tbl in cursor.fetchall()]\n",
    "\n",
    "tablas"
   ]
  },
  {
   "cell_type": "code",
   "execution_count": 9,
   "metadata": {},
   "outputs": [
    {
     "name": "stdout",
     "output_type": "stream",
     "text": [
      "actor\n",
      "address\n",
      "category\n",
      "city\n",
      "country\n",
      "customer\n",
      "film\n",
      "film_actor\n",
      "film_category\n",
      "film_text\n",
      "inventory\n",
      "language\n",
      "payment\n",
      "rental\n",
      "staff\n",
      "store\n"
     ]
    }
   ],
   "source": [
    "# Para cada tabla de la DB\n",
    "for tbl in tablas:\n",
    "    print(tbl)\n",
    "    alter = f\"\"\"\n",
    "            ALTER TABLE\n",
    "            {tbl}\n",
    "            CONVERT TO CHARACTER SET {charactet_set} \n",
    "            COLLATE {collate};\n",
    "            \"\"\"\n",
    "    try:\n",
    "        cursor.execute(alter)\n",
    "        conexion.commit()\n",
    "    except Exception as e:\n",
    "        print ('INSTRUCCION SQL :', alter)\n",
    "        print ('ERROR: ' + str(e)+'\\n')\n",
    "        continue\n",
    "    \n",
    "\n",
    "\n",
    "    # Para cada columna de la tabla\n",
    "    cursor.execute(f'DESCRIBE {tbl}')\n",
    "    for col in cursor.fetchall():\n",
    "        col_nombre, col_tipo = col [:2]\n",
    "        if 'VARCHAR' in col_tipo.upper():\n",
    "\n",
    "            alter = f'''ALTER TABLE\n",
    "                {tbl}\n",
    "                CHANGE {col_nombre} {col_nombre} \n",
    "                {col_tipo}\n",
    "                CHARACTER SET {charactet_set} \n",
    "                COLLATE {collate}\n",
    "                '''\n",
    "            try:\n",
    "                cursor.execute(alter)\n",
    "                conexion.commit()\n",
    "            except Exception as e:\n",
    "                print ('INSTRUCCION SQL :', alter)\n",
    "                print ('ERROR: ' + str(e)+'\\n')\n",
    "\n",
    "\n",
    "\n",
    "\n"
   ]
  },
  {
   "cell_type": "code",
   "execution_count": null,
   "metadata": {},
   "outputs": [],
   "source": [
    "# cierro conexión\n",
    "conexion.close()"
   ]
  }
 ],
 "metadata": {
  "kernelspec": {
   "display_name": "Python 3",
   "language": "python",
   "name": "python3"
  },
  "language_info": {
   "codemirror_mode": {
    "name": "ipython",
    "version": 3
   },
   "file_extension": ".py",
   "mimetype": "text/x-python",
   "name": "python",
   "nbconvert_exporter": "python",
   "pygments_lexer": "ipython3",
   "version": "3.10.6"
  },
  "orig_nbformat": 4
 },
 "nbformat": 4,
 "nbformat_minor": 2
}
